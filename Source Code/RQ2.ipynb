{
 "nbformat": 4,
 "nbformat_minor": 0,
 "metadata": {
  "colab": {
   "name": "RQ2.ipynb",
   "provenance": [],
   "collapsed_sections": []
  },
  "kernelspec": {
   "name": "python3",
   "display_name": "Python 3"
  },
  "language_info": {
   "name": "python"
  }
 },
 "cells": [
  {
   "cell_type": "code",
   "execution_count": 1,
   "metadata": {
    "colab": {
     "base_uri": "https://localhost:8080/"
    },
    "id": "FvCCpctGWsHn",
    "outputId": "e286fa31-0801-485b-d4c8-e3973f1ce172",
    "pycharm": {
     "name": "#%%\n"
    }
   },
   "outputs": [
    {
     "ename": "ModuleNotFoundError",
     "evalue": "No module named 'google.colab'",
     "output_type": "error",
     "traceback": [
      "\u001B[0;31m---------------------------------------------------------------------------\u001B[0m",
      "\u001B[0;31mModuleNotFoundError\u001B[0m                       Traceback (most recent call last)",
      "\u001B[0;32m/tmp/ipykernel_2913859/1901914613.py\u001B[0m in \u001B[0;36m<module>\u001B[0;34m\u001B[0m\n\u001B[0;32m----> 1\u001B[0;31m \u001B[0;32mfrom\u001B[0m \u001B[0mgoogle\u001B[0m\u001B[0;34m.\u001B[0m\u001B[0mcolab\u001B[0m \u001B[0;32mimport\u001B[0m \u001B[0mdrive\u001B[0m\u001B[0;34m\u001B[0m\u001B[0;34m\u001B[0m\u001B[0m\n\u001B[0m\u001B[1;32m      2\u001B[0m \u001B[0mdrive\u001B[0m\u001B[0;34m.\u001B[0m\u001B[0mmount\u001B[0m\u001B[0;34m(\u001B[0m\u001B[0;34m'/content/gdrive'\u001B[0m\u001B[0;34m)\u001B[0m\u001B[0;34m\u001B[0m\u001B[0;34m\u001B[0m\u001B[0m\n",
      "\u001B[0;31mModuleNotFoundError\u001B[0m: No module named 'google.colab'"
     ]
    }
   ],
   "source": [
    "from google.colab import drive\n",
    "drive.mount('/content/gdrive')\n",
    "%cd SE/EasyToken\n",
    "%ls"
   ]
  },
  {
   "cell_type": "code",
   "source": [
    "import os\n",
    "from os import listdir\n",
    "from os.path import isfile, join\n",
    "import pandas as pd"
   ],
   "metadata": {
    "id": "pE6qTpUAtjdn",
    "pycharm": {
     "name": "#%%\n"
    }
   },
   "execution_count": null,
   "outputs": []
  },
  {
   "cell_type": "code",
   "source": [
    "USAGE_files = []\n",
    "usage_keywords = ['res','resources','ui','Activity']\n",
    "for u in usage_keywords:\n",
    "  for root, dirs, files in os.walk('/content/gdrive/MyDrive/SE/EasyToken'):\n",
    "    for file in files:\n",
    "      if u in root and file.endswith(('.java', '.xml')):\n",
    "        USAGE_files.append(os.path.join(root,file))\n",
    "\n",
    "USAGE_files"
   ],
   "metadata": {
    "colab": {
     "base_uri": "https://localhost:8080/"
    },
    "id": "lZ4nsjMC3yGW",
    "outputId": "b663858a-32fa-474b-855a-75a2a757c1af",
    "pycharm": {
     "name": "#%%\n"
    }
   },
   "execution_count": null,
   "outputs": [
    {
     "output_type": "execute_result",
     "data": {
      "text/plain": [
       "['/content/gdrive/MyDrive/SE/EasyToken/res/values-v14/styles.xml',\n",
       " '/content/gdrive/MyDrive/SE/EasyToken/res/xml/widget_info.xml',\n",
       " '/content/gdrive/MyDrive/SE/EasyToken/res/xml/settings.xml',\n",
       " '/content/gdrive/MyDrive/SE/EasyToken/res/menu/main.xml',\n",
       " '/content/gdrive/MyDrive/SE/EasyToken/res/animator/fragment_slide_right_exit.xml',\n",
       " '/content/gdrive/MyDrive/SE/EasyToken/res/animator/fragment_slide_left_enter.xml',\n",
       " '/content/gdrive/MyDrive/SE/EasyToken/res/animator/fragment_slide_right_enter.xml',\n",
       " '/content/gdrive/MyDrive/SE/EasyToken/res/animator/fade_in.xml',\n",
       " '/content/gdrive/MyDrive/SE/EasyToken/res/animator/fragment_slide_left_exit.xml',\n",
       " '/content/gdrive/MyDrive/SE/EasyToken/res/animator/fade_out.xml',\n",
       " '/content/gdrive/MyDrive/SE/EasyToken/res/values/dimens.xml',\n",
       " '/content/gdrive/MyDrive/SE/EasyToken/res/values/strings.xml',\n",
       " '/content/gdrive/MyDrive/SE/EasyToken/res/values/styles.xml',\n",
       " '/content/gdrive/MyDrive/SE/EasyToken/res/values/arrays.xml',\n",
       " '/content/gdrive/MyDrive/SE/EasyToken/res/values-sw600dp/dimens.xml',\n",
       " '/content/gdrive/MyDrive/SE/EasyToken/res/layout/activity_help.xml',\n",
       " '/content/gdrive/MyDrive/SE/EasyToken/res/layout/fragment_import_unlock.xml',\n",
       " '/content/gdrive/MyDrive/SE/EasyToken/res/layout/file_dialog_row.xml',\n",
       " '/content/gdrive/MyDrive/SE/EasyToken/res/layout/fragment_getting_started.xml',\n",
       " '/content/gdrive/MyDrive/SE/EasyToken/res/layout/fragment_import_confirm.xml',\n",
       " '/content/gdrive/MyDrive/SE/EasyToken/res/layout/fragment_import_instructions_uri.xml',\n",
       " '/content/gdrive/MyDrive/SE/EasyToken/res/layout/fragment_devid.xml',\n",
       " '/content/gdrive/MyDrive/SE/EasyToken/res/layout/file_dialog.xml',\n",
       " '/content/gdrive/MyDrive/SE/EasyToken/res/layout/token_diag_info.xml',\n",
       " '/content/gdrive/MyDrive/SE/EasyToken/res/layout/fragment_import_manual_entry.xml',\n",
       " '/content/gdrive/MyDrive/SE/EasyToken/res/layout/file_dialog_inline.xml',\n",
       " '/content/gdrive/MyDrive/SE/EasyToken/res/layout/fragment_import_method.xml',\n",
       " '/content/gdrive/MyDrive/SE/EasyToken/res/layout/widget_keyguard.xml',\n",
       " '/content/gdrive/MyDrive/SE/EasyToken/res/layout/file_dialog_main.xml',\n",
       " '/content/gdrive/MyDrive/SE/EasyToken/res/layout/widget.xml',\n",
       " '/content/gdrive/MyDrive/SE/EasyToken/res/layout/activity_about.xml',\n",
       " '/content/gdrive/MyDrive/SE/EasyToken/res/layout/activity_main.xml',\n",
       " '/content/gdrive/MyDrive/SE/EasyToken/res/values-sw720dp-land/dimens.xml',\n",
       " '/content/gdrive/MyDrive/SE/EasyToken/res/drawable/rounded_rect.xml',\n",
       " '/content/gdrive/MyDrive/SE/EasyToken/res/drawable/rect.xml',\n",
       " '/content/gdrive/MyDrive/SE/EasyToken/res/values-v11/styles.xml']"
      ]
     },
     "metadata": {},
     "execution_count": 109
    }
   ]
  },
  {
   "cell_type": "code",
   "source": [
    "Compatibility_Protection_files = []\n",
    "\n",
    "for root, dirs, files in os.walk('/content/gdrive/MyDrive/SE/EasyToken'):\n",
    "  for file in files:\n",
    "    if 'AndroidManifest' in os.path.join(root,file):\n",
    "      Compatibility_Protection_files.append(os.path.join(root,file))\n",
    "\n",
    "Compatibility_Protection_files"
   ],
   "metadata": {
    "colab": {
     "base_uri": "https://localhost:8080/"
    },
    "id": "oin-0Uz70hU-",
    "outputId": "959288d7-5851-44c1-e91d-bed24640bf06",
    "pycharm": {
     "name": "#%%\n"
    }
   },
   "execution_count": null,
   "outputs": [
    {
     "output_type": "execute_result",
     "data": {
      "text/plain": [
       "['/content/gdrive/MyDrive/SE/EasyToken/AndroidManifest.xml']"
      ]
     },
     "metadata": {},
     "execution_count": 111
    }
   ]
  },
  {
   "cell_type": "code",
   "source": [
    "resources_keywords = ['content','provider','Content-Provider']\n",
    "resources_files = []\n",
    "for r in resources_keywords:\n",
    "  for root, dirs, files in os.walk('/content/gdrive/MyDrive/SE/EasyToken'):\n",
    "    for file in files:\n",
    "      if r in root and file.endswith(('.java', '.xml')):\n",
    "        resources_files.append(os.path.join(root,file))\n",
    "\n",
    "resources_files"
   ],
   "metadata": {
    "id": "HmU5W-KE05GC",
    "pycharm": {
     "name": "#%%\n"
    }
   },
   "execution_count": null,
   "outputs": []
  },
  {
   "cell_type": "code",
   "source": [
    "data = pd.read_csv(USAGE_files[0],on_bad_lines='skip')\n",
    "data.head()"
   ],
   "metadata": {
    "id": "vVrF6HfAEMx6",
    "pycharm": {
     "name": "#%%\n"
    }
   },
   "execution_count": null,
   "outputs": []
  },
  {
   "cell_type": "code",
   "source": [
    "data = pd.read_csv(\"ALauncher.txt\",on_bad_lines='skip')\n",
    "data['package a2dp.Vol;']"
   ],
   "metadata": {
    "id": "usQQYd0mW5HB",
    "pycharm": {
     "name": "#%%\n"
    }
   },
   "execution_count": null,
   "outputs": []
  },
  {
   "cell_type": "code",
   "source": [
    "# Data Cleaning\n",
    "import re\n",
    "def clean_text(text):\n",
    "    # remove everything except alphabets\n",
    "    text = re.sub(\"[^a-zA-Z]\", \" \", text)\n",
    "    # use camel split\n",
    "    #text = re.findall(r'[A-Z](?:[a-z]+|[A-Z]*(?=[A-Z]|$))', text)\n",
    "    # remove whitespaces\n",
    "    text = ' '.join(text.split())\n",
    "    text = text.lower()\n",
    "    \n",
    "    return text"
   ],
   "metadata": {
    "id": "MdhJzex4acKJ",
    "pycharm": {
     "name": "#%%\n"
    }
   },
   "execution_count": null,
   "outputs": []
  },
  {
   "cell_type": "code",
   "source": [
    "# creating clean text feature\n",
    "features = ['package a2dp.Vol;']\n",
    "for feature in features:\n",
    "    data['clean_' + feature] = data[feature].apply(clean_text)"
   ],
   "metadata": {
    "id": "nDOJk4wGaxDQ",
    "pycharm": {
     "name": "#%%\n"
    }
   },
   "execution_count": null,
   "outputs": []
  },
  {
   "cell_type": "code",
   "source": [
    "data.head()"
   ],
   "metadata": {
    "colab": {
     "base_uri": "https://localhost:8080/",
     "height": 204
    },
    "id": "dVqAnMoXbbNz",
    "outputId": "83cccea7-019c-45a0-8e94-b030b8fd11d4",
    "pycharm": {
     "name": "#%%\n"
    }
   },
   "execution_count": null,
   "outputs": [
    {
     "output_type": "execute_result",
     "data": {
      "text/plain": [
       "                       package a2dp.Vol;               clean_package a2dp.Vol;\n",
       "0        import java.io.FileInputStream;        import java io fileinputstream\n",
       "1  import java.io.FileNotFoundException;  import java io filenotfoundexception\n",
       "2            import java.io.IOException;            import java io ioexception\n",
       "3            import android.app.Service;            import android app service\n",
       "4         import android.content.Intent;         import android content intent"
      ],
      "text/html": [
       "\n",
       "  <div id=\"df-27c91c7a-f3ea-4fe1-9b9c-aee536e98023\">\n",
       "    <div class=\"colab-df-container\">\n",
       "      <div>\n",
       "<style scoped>\n",
       "    .dataframe tbody tr th:only-of-type {\n",
       "        vertical-align: middle;\n",
       "    }\n",
       "\n",
       "    .dataframe tbody tr th {\n",
       "        vertical-align: top;\n",
       "    }\n",
       "\n",
       "    .dataframe thead th {\n",
       "        text-align: right;\n",
       "    }\n",
       "</style>\n",
       "<table border=\"1\" class=\"dataframe\">\n",
       "  <thead>\n",
       "    <tr style=\"text-align: right;\">\n",
       "      <th></th>\n",
       "      <th>package a2dp.Vol;</th>\n",
       "      <th>clean_package a2dp.Vol;</th>\n",
       "    </tr>\n",
       "  </thead>\n",
       "  <tbody>\n",
       "    <tr>\n",
       "      <th>0</th>\n",
       "      <td>import java.io.FileInputStream;</td>\n",
       "      <td>import java io fileinputstream</td>\n",
       "    </tr>\n",
       "    <tr>\n",
       "      <th>1</th>\n",
       "      <td>import java.io.FileNotFoundException;</td>\n",
       "      <td>import java io filenotfoundexception</td>\n",
       "    </tr>\n",
       "    <tr>\n",
       "      <th>2</th>\n",
       "      <td>import java.io.IOException;</td>\n",
       "      <td>import java io ioexception</td>\n",
       "    </tr>\n",
       "    <tr>\n",
       "      <th>3</th>\n",
       "      <td>import android.app.Service;</td>\n",
       "      <td>import android app service</td>\n",
       "    </tr>\n",
       "    <tr>\n",
       "      <th>4</th>\n",
       "      <td>import android.content.Intent;</td>\n",
       "      <td>import android content intent</td>\n",
       "    </tr>\n",
       "  </tbody>\n",
       "</table>\n",
       "</div>\n",
       "      <button class=\"colab-df-convert\" onclick=\"convertToInteractive('df-27c91c7a-f3ea-4fe1-9b9c-aee536e98023')\"\n",
       "              title=\"Convert this dataframe to an interactive table.\"\n",
       "              style=\"display:none;\">\n",
       "        \n",
       "  <svg xmlns=\"http://www.w3.org/2000/svg\" height=\"24px\"viewBox=\"0 0 24 24\"\n",
       "       width=\"24px\">\n",
       "    <path d=\"M0 0h24v24H0V0z\" fill=\"none\"/>\n",
       "    <path d=\"M18.56 5.44l.94 2.06.94-2.06 2.06-.94-2.06-.94-.94-2.06-.94 2.06-2.06.94zm-11 1L8.5 8.5l.94-2.06 2.06-.94-2.06-.94L8.5 2.5l-.94 2.06-2.06.94zm10 10l.94 2.06.94-2.06 2.06-.94-2.06-.94-.94-2.06-.94 2.06-2.06.94z\"/><path d=\"M17.41 7.96l-1.37-1.37c-.4-.4-.92-.59-1.43-.59-.52 0-1.04.2-1.43.59L10.3 9.45l-7.72 7.72c-.78.78-.78 2.05 0 2.83L4 21.41c.39.39.9.59 1.41.59.51 0 1.02-.2 1.41-.59l7.78-7.78 2.81-2.81c.8-.78.8-2.07 0-2.86zM5.41 20L4 18.59l7.72-7.72 1.47 1.35L5.41 20z\"/>\n",
       "  </svg>\n",
       "      </button>\n",
       "      \n",
       "  <style>\n",
       "    .colab-df-container {\n",
       "      display:flex;\n",
       "      flex-wrap:wrap;\n",
       "      gap: 12px;\n",
       "    }\n",
       "\n",
       "    .colab-df-convert {\n",
       "      background-color: #E8F0FE;\n",
       "      border: none;\n",
       "      border-radius: 50%;\n",
       "      cursor: pointer;\n",
       "      display: none;\n",
       "      fill: #1967D2;\n",
       "      height: 32px;\n",
       "      padding: 0 0 0 0;\n",
       "      width: 32px;\n",
       "    }\n",
       "\n",
       "    .colab-df-convert:hover {\n",
       "      background-color: #E2EBFA;\n",
       "      box-shadow: 0px 1px 2px rgba(60, 64, 67, 0.3), 0px 1px 3px 1px rgba(60, 64, 67, 0.15);\n",
       "      fill: #174EA6;\n",
       "    }\n",
       "\n",
       "    [theme=dark] .colab-df-convert {\n",
       "      background-color: #3B4455;\n",
       "      fill: #D2E3FC;\n",
       "    }\n",
       "\n",
       "    [theme=dark] .colab-df-convert:hover {\n",
       "      background-color: #434B5C;\n",
       "      box-shadow: 0px 1px 3px 1px rgba(0, 0, 0, 0.15);\n",
       "      filter: drop-shadow(0px 1px 2px rgba(0, 0, 0, 0.3));\n",
       "      fill: #FFFFFF;\n",
       "    }\n",
       "  </style>\n",
       "\n",
       "      <script>\n",
       "        const buttonEl =\n",
       "          document.querySelector('#df-27c91c7a-f3ea-4fe1-9b9c-aee536e98023 button.colab-df-convert');\n",
       "        buttonEl.style.display =\n",
       "          google.colab.kernel.accessAllowed ? 'block' : 'none';\n",
       "\n",
       "        async function convertToInteractive(key) {\n",
       "          const element = document.querySelector('#df-27c91c7a-f3ea-4fe1-9b9c-aee536e98023');\n",
       "          const dataTable =\n",
       "            await google.colab.kernel.invokeFunction('convertToInteractive',\n",
       "                                                     [key], {});\n",
       "          if (!dataTable) return;\n",
       "\n",
       "          const docLinkHtml = 'Like what you see? Visit the ' +\n",
       "            '<a target=\"_blank\" href=https://colab.research.google.com/notebooks/data_table.ipynb>data table notebook</a>'\n",
       "            + ' to learn more about interactive tables.';\n",
       "          element.innerHTML = '';\n",
       "          dataTable['output_type'] = 'display_data';\n",
       "          await google.colab.output.renderOutput(dataTable, element);\n",
       "          const docLink = document.createElement('div');\n",
       "          docLink.innerHTML = docLinkHtml;\n",
       "          element.appendChild(docLink);\n",
       "        }\n",
       "      </script>\n",
       "    </div>\n",
       "  </div>\n",
       "  "
      ]
     },
     "metadata": {},
     "execution_count": 5
    }
   ]
  },
  {
   "cell_type": "code",
   "source": [
    "data['soup'] = data['clean_package a2dp.Vol;']"
   ],
   "metadata": {
    "id": "txwmOb6abogu",
    "pycharm": {
     "name": "#%%\n"
    }
   },
   "execution_count": null,
   "outputs": []
  },
  {
   "cell_type": "code",
   "source": [
    "# stopwords-to compare text data with and without stopwords\n",
    "import nltk\n",
    "from nltk.corpus import stopwords\n",
    "nltk.download('stopwords')\n",
    "stop_words = set(stopwords.words('english'))\n",
    "java_stop_words = ['abstract','continue','for','new','switch','assert','default','goto','package','synchronized',\n",
    "'boolean','do','if','private','this','break','double','implements','protected','throw','byte','else','import','public','throws',\n",
    "'case','enum','instanceof',\t'return','transient','catch','extends','int','short','try', 'char','final','interface',\n",
    "'static',\t'void','class',\t'finally','long',\t'strictfp',\t'volatile', 'const','float',\t'native',\t'super','while']\n",
    "\n",
    "for s in java_stop_words:\n",
    "  stop_words.add(s)\n",
    "\n",
    "# function to remove stopwords\n",
    "def remove_stopwords(text):\n",
    "    no_stopword_text = [w for w in text.split() if not w in stop_words]\n",
    "    return ' '.join(no_stopword_text)\n",
    "  "
   ],
   "metadata": {
    "colab": {
     "base_uri": "https://localhost:8080/"
    },
    "id": "7S3-X7Imb895",
    "outputId": "6fedac7f-fe0a-4e3f-95c7-25f64416e10c",
    "pycharm": {
     "name": "#%%\n"
    }
   },
   "execution_count": null,
   "outputs": [
    {
     "output_type": "stream",
     "name": "stdout",
     "text": [
      "[nltk_data] Downloading package stopwords to /root/nltk_data...\n",
      "[nltk_data]   Package stopwords is already up-to-date!\n"
     ]
    }
   ]
  },
  {
   "cell_type": "code",
   "source": [
    "data['soup'] = data['soup'].apply(lambda x: remove_stopwords(x))"
   ],
   "metadata": {
    "id": "kySfhIH0E3Lr",
    "pycharm": {
     "name": "#%%\n"
    }
   },
   "execution_count": null,
   "outputs": []
  },
  {
   "cell_type": "code",
   "source": [
    "# stemming process\n",
    "from nltk.stem import PorterStemmer\n",
    "'''\n",
    "Words in the third person are changed to first person and verbs in past and future tenses are changed into the present by the \n",
    "stemming process. \n",
    "'''\n",
    "stem_process = PorterStemmer()\n",
    "\n",
    "def tokenize_and_stem(text):\n",
    "    # tokenization to ensure that punctuation is caught as its own token\n",
    "    tokens = [word.lower() for sent in nltk.sent_tokenize(text) for word in nltk.word_tokenize(sent)]\n",
    "    filtered_tokens = []\n",
    "    \n",
    "    for token in tokens:\n",
    "        if re.search('[a-zA-Z]', token):\n",
    "            filtered_tokens.append(token)\n",
    "    lem = [stem_process.stem(t) for t in filtered_tokens]\n",
    "    return lem"
   ],
   "metadata": {
    "id": "6A4llq2oeS_U",
    "pycharm": {
     "name": "#%%\n"
    }
   },
   "execution_count": null,
   "outputs": []
  },
  {
   "cell_type": "code",
   "source": [
    "# Defining a TF-IDF Vectorizer with Ngram 2 and 3\n",
    "from sklearn.feature_extraction.text import TfidfTransformer\n",
    "from sklearn.feature_extraction.text import TfidfVectorizer\n",
    "tfidf_vec = TfidfVectorizer(stop_words='english', ngram_range=(2, 3), tokenizer=tokenize_and_stem, max_features=1000, use_idf=True)"
   ],
   "metadata": {
    "id": "ZwkntsWee3VW",
    "pycharm": {
     "name": "#%%\n"
    }
   },
   "execution_count": null,
   "outputs": []
  },
  {
   "cell_type": "code",
   "source": [
    "nltk.download('punkt')\n",
    "# tfidf_vec = tfidf_vec.fit_transform(data)"
   ],
   "metadata": {
    "colab": {
     "base_uri": "https://localhost:8080/"
    },
    "id": "eXCxinApiUlu",
    "outputId": "2b461fcd-e2b4-4eea-a6e6-c1574226a08c",
    "pycharm": {
     "name": "#%%\n"
    }
   },
   "execution_count": null,
   "outputs": [
    {
     "output_type": "stream",
     "name": "stdout",
     "text": [
      "[nltk_data] Downloading package punkt to /root/nltk_data...\n",
      "[nltk_data]   Package punkt is already up-to-date!\n"
     ]
    },
    {
     "output_type": "execute_result",
     "data": {
      "text/plain": [
       "True"
      ]
     },
     "metadata": {},
     "execution_count": 130
    }
   ]
  },
  {
   "cell_type": "code",
   "source": [
    "all_files = USAGE_files + Compatibility_Protection_files + resources_files\n",
    "source_codes_tf_idf = []\n",
    "\n",
    "# todo: check this part\n",
    "for path in all_files:\n",
    "  with open(path, 'r') as f:\n",
    "    data = f.read()\n",
    "    data = clean_text(data)\n",
    "    data = [remove_stopwords(data)]\n",
    "    data = tfidf_vec.fit(data)\n",
    "    source_codes_tf_idf.append(data)\n",
    "  "
   ],
   "metadata": {
    "colab": {
     "base_uri": "https://localhost:8080/"
    },
    "id": "Onc-xpsj-bln",
    "outputId": "03f4284b-0eb6-423f-fe51-cabbf1169e5e",
    "pycharm": {
     "name": "#%%\n"
    }
   },
   "execution_count": null,
   "outputs": [
    {
     "output_type": "stream",
     "name": "stderr",
     "text": [
      "/usr/local/lib/python3.7/dist-packages/sklearn/feature_extraction/text.py:517: UserWarning: The parameter 'token_pattern' will not be used since 'tokenizer' is not None'\n",
      "  \"The parameter 'token_pattern' will not be used\"\n",
      "/usr/local/lib/python3.7/dist-packages/sklearn/feature_extraction/text.py:517: UserWarning: The parameter 'token_pattern' will not be used since 'tokenizer' is not None'\n",
      "  \"The parameter 'token_pattern' will not be used\"\n",
      "/usr/local/lib/python3.7/dist-packages/sklearn/feature_extraction/text.py:517: UserWarning: The parameter 'token_pattern' will not be used since 'tokenizer' is not None'\n",
      "  \"The parameter 'token_pattern' will not be used\"\n",
      "/usr/local/lib/python3.7/dist-packages/sklearn/feature_extraction/text.py:517: UserWarning: The parameter 'token_pattern' will not be used since 'tokenizer' is not None'\n",
      "  \"The parameter 'token_pattern' will not be used\"\n",
      "/usr/local/lib/python3.7/dist-packages/sklearn/feature_extraction/text.py:517: UserWarning: The parameter 'token_pattern' will not be used since 'tokenizer' is not None'\n",
      "  \"The parameter 'token_pattern' will not be used\"\n",
      "/usr/local/lib/python3.7/dist-packages/sklearn/feature_extraction/text.py:517: UserWarning: The parameter 'token_pattern' will not be used since 'tokenizer' is not None'\n",
      "  \"The parameter 'token_pattern' will not be used\"\n",
      "/usr/local/lib/python3.7/dist-packages/sklearn/feature_extraction/text.py:517: UserWarning: The parameter 'token_pattern' will not be used since 'tokenizer' is not None'\n",
      "  \"The parameter 'token_pattern' will not be used\"\n",
      "/usr/local/lib/python3.7/dist-packages/sklearn/feature_extraction/text.py:517: UserWarning: The parameter 'token_pattern' will not be used since 'tokenizer' is not None'\n",
      "  \"The parameter 'token_pattern' will not be used\"\n"
     ]
    }
   ]
  },
  {
   "cell_type": "code",
   "source": [
    "reviews_tf_idf = []\n",
    "# to do: check\n",
    "reviews = pd.read_csv('/content/gdrive/MyDrive/SE/appbot-reviews.csv')\n",
    "reviews_tf_idf = tfidf_vec.fit_transform(reviews['Body'])\n"
   ],
   "metadata": {
    "id": "6f4K-XadJmd1",
    "pycharm": {
     "name": "#%%\n"
    }
   },
   "execution_count": null,
   "outputs": []
  },
  {
   "cell_type": "code",
   "source": [
    "from sklearn.metrics.pairwise import cosine_similarity\n",
    "\n",
    "for r in reviews_tf_idf:\n",
    "  cosine_similarities = []\n",
    "  for t in source_codes_tf_idf:\n",
    "    cosine_sim = cosine_similarity(t, r)\n",
    "    # todo: boost cosine_sim with Lucene boosting functionality\n",
    "    # we have reviews['label] and HLC of source_codes (USAGE_files, Compatibility_Protection_files, resources_files)\n",
    "    # cosine_sim = ...\n",
    "    cosine_similarities.append(cosine_sim)\n",
    "  \n",
    "  # todo: sort the cosine_similarities\n",
    "  # todo: print top scoring source_codes for review r\n"
   ],
   "metadata": {
    "id": "3wHk04EbtG-6",
    "pycharm": {
     "name": "#%%\n"
    }
   },
   "execution_count": null,
   "outputs": []
  },
  {
   "cell_type": "code",
   "source": [],
   "metadata": {
    "id": "T1Lj3zRfJEVi",
    "pycharm": {
     "name": "#%%\n"
    }
   },
   "execution_count": null,
   "outputs": []
  }
 ]
}